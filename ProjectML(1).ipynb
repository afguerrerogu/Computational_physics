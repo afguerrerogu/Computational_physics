{
  "nbformat": 4,
  "nbformat_minor": 0,
  "metadata": {
    "accelerator": "GPU",
    "colab": {
      "name": "ProjectML(1).ipynb",
      "provenance": [],
      "collapsed_sections": [],
      "include_colab_link": true
    },
    "kernelspec": {
      "display_name": "Python 3",
      "language": "python",
      "name": "python3"
    },
    "language_info": {
      "codemirror_mode": {
        "name": "ipython",
        "version": 3
      },
      "file_extension": ".py",
      "mimetype": "text/x-python",
      "name": "python",
      "nbconvert_exporter": "python",
      "pygments_lexer": "ipython3",
      "version": "3.8.5"
    }
  },
  "cells": [
    {
      "cell_type": "markdown",
      "metadata": {
        "id": "view-in-github",
        "colab_type": "text"
      },
      "source": [
        "<a href=\"https://colab.research.google.com/github/afguerrerogu/Computational_physics/blob/main/ProjectML(1).ipynb\" target=\"_parent\"><img src=\"https://colab.research.google.com/assets/colab-badge.svg\" alt=\"Open In Colab\"/></a>"
      ]
    },
    {
      "cell_type": "markdown",
      "metadata": {
        "id": "JoTsYWQ0mFX3"
      },
      "source": [
        "# Star Type Classification\n"
      ]
    },
    {
      "cell_type": "markdown",
      "metadata": {
        "id": "n8ti63AtmFX-"
      },
      "source": [
        "First, we'll import some libraries that will be useful for later."
      ]
    },
    {
      "cell_type": "code",
      "metadata": {
        "id": "fRlTexfLmFYB",
        "colab": {
          "base_uri": "https://localhost:8080/"
        },
        "outputId": "89ed34d6-15da-407b-fa14-226b899c1b49"
      },
      "source": [
        "# Graphs and figures\n",
        "import matplotlib.pyplot as plt\n",
        "import seaborn as sns\n",
        "\n",
        "# Data/arrays manipulation\n",
        "import numpy as np\n",
        "np.random.seed(0) # for reproducibility\n",
        "import pandas as pd\n",
        "\n",
        "# Machine learning !\n",
        "import sklearn\n",
        "\n",
        "# Working with google colab needs to mount the Google Drive\n",
        "from google.colab import drive\n",
        "drive.mount('/content/drive')\n",
        "path = \"/content/drive/MyDrive/Colab Notebooks/\"\n"
      ],
      "execution_count": 3,
      "outputs": [
        {
          "output_type": "stream",
          "text": [
            "Mounted at /content/drive\n"
          ],
          "name": "stdout"
        }
      ]
    },
    {
      "cell_type": "markdown",
      "metadata": {
        "id": "ldkXdBZQmFYG"
      },
      "source": [
        "## Star Type Classification"
      ]
    },
    {
      "cell_type": "markdown",
      "metadata": {
        "id": "TNRcxuBtmFYH"
      },
      "source": [
        "In this project we will use a dataset collected by [Deepraj Baidya](https://github.com/deepraj1729). It is available at [Kaggle](https://www.kaggle.com/deepu1109/star-dataset). \n",
        "\n",
        "This dataset includes information that was collected either from Wikipedia or derived from the laws of physics. As always, each row correspond to a sample (observation) and the features (measurements)  are the columns. There is a totral of 240 stars with the following features:\n",
        "\n",
        "- Temperature ( in Kelvin )\n",
        "- Luminosity ( L/L$_{\\odot}$ )\n",
        "- Radius ( R/R$_{\\odot}$ )\n",
        "- Absolute visual magnitude ( M$_v$ )\n",
        "- Color (Red/Orange/Yellow/White/Blue/…)\n",
        "- Spectral class ('A', 'B', 'F', 'G', 'K', 'M', 'O')\n",
        "- Star type (Brown dwarf/Red dwarf/White dwarf/Main sequence/Supergiant/Hypergiant)\n",
        "\n",
        "\n",
        "\n",
        "The objective of this project is to build a decisional model to categorize stars based on their observed properties. \n",
        "From a mathematical point of vew, we want to build a classification function with the form\n",
        "\n",
        "\\begin{equation}\n",
        "f: (x_1, x_2, ..., x_n) \\in \\mathbb{R}^n \\rightarrow f(x_1, ..., x_n) = y \\in \\{0, 1, 2, ..., k-1\\},\n",
        "\\end{equation}\n",
        "\n",
        "where\n",
        "\n",
        "- $(x_1, ..., x_n)$ represent the features, i.e. the observed physical properties such as Temperature, Luminosity, etc.\n",
        "\n",
        "- $y$ represents the index of the class, i.e. the star type.\n"
      ]
    },
    {
      "cell_type": "markdown",
      "metadata": {
        "id": "9gLeBSGmmFYI"
      },
      "source": [
        "### Loading and preprocessing of the data\n",
        "\n",
        "Since the dataset is a `.csv`file, we will use the `Pandas` package to load and manipulate the data.\n",
        "\n",
        "1. Download the dataset from the [Kaggle](https://www.kaggle.com/deepu1109/star-dataset).\n",
        "\n",
        "2. Load the dataset as a dataframe named `df_stars` using `Pandas`.\n",
        "\n",
        "3. Describe the data. Which features are numerical, which are continuous and which are categorical?"
      ]
    },
    {
      "cell_type": "markdown",
      "metadata": {
        "id": "Q3YVG22AmFYV"
      },
      "source": [
        "The datframe should look as this:"
      ]
    },
    {
      "cell_type": "code",
      "metadata": {
        "colab": {
          "base_uri": "https://localhost:8080/",
          "height": 424
        },
        "id": "AlcvjDhmmFYX",
        "outputId": "a7eb0c7e-9bd3-4e58-c53c-42f6600f2d5c"
      },
      "source": [
        "df_stars = pd.read_csv(path+ '6 class csv.csv', delimiter=\",\", comment=\"#\")\n",
        "df_stars"
      ],
      "execution_count": 4,
      "outputs": [
        {
          "output_type": "execute_result",
          "data": {
            "text/html": [
              "<div>\n",
              "<style scoped>\n",
              "    .dataframe tbody tr th:only-of-type {\n",
              "        vertical-align: middle;\n",
              "    }\n",
              "\n",
              "    .dataframe tbody tr th {\n",
              "        vertical-align: top;\n",
              "    }\n",
              "\n",
              "    .dataframe thead th {\n",
              "        text-align: right;\n",
              "    }\n",
              "</style>\n",
              "<table border=\"1\" class=\"dataframe\">\n",
              "  <thead>\n",
              "    <tr style=\"text-align: right;\">\n",
              "      <th></th>\n",
              "      <th>Temperature (K)</th>\n",
              "      <th>Luminosity(L/Lo)</th>\n",
              "      <th>Radius(R/Ro)</th>\n",
              "      <th>Absolute magnitude(Mv)</th>\n",
              "      <th>Star type</th>\n",
              "      <th>Star color</th>\n",
              "      <th>Spectral Class</th>\n",
              "    </tr>\n",
              "  </thead>\n",
              "  <tbody>\n",
              "    <tr>\n",
              "      <th>0</th>\n",
              "      <td>3068</td>\n",
              "      <td>0.002400</td>\n",
              "      <td>0.1700</td>\n",
              "      <td>16.12</td>\n",
              "      <td>0</td>\n",
              "      <td>Red</td>\n",
              "      <td>M</td>\n",
              "    </tr>\n",
              "    <tr>\n",
              "      <th>1</th>\n",
              "      <td>3042</td>\n",
              "      <td>0.000500</td>\n",
              "      <td>0.1542</td>\n",
              "      <td>16.60</td>\n",
              "      <td>0</td>\n",
              "      <td>Red</td>\n",
              "      <td>M</td>\n",
              "    </tr>\n",
              "    <tr>\n",
              "      <th>2</th>\n",
              "      <td>2600</td>\n",
              "      <td>0.000300</td>\n",
              "      <td>0.1020</td>\n",
              "      <td>18.70</td>\n",
              "      <td>0</td>\n",
              "      <td>Red</td>\n",
              "      <td>M</td>\n",
              "    </tr>\n",
              "    <tr>\n",
              "      <th>3</th>\n",
              "      <td>2800</td>\n",
              "      <td>0.000200</td>\n",
              "      <td>0.1600</td>\n",
              "      <td>16.65</td>\n",
              "      <td>0</td>\n",
              "      <td>Red</td>\n",
              "      <td>M</td>\n",
              "    </tr>\n",
              "    <tr>\n",
              "      <th>4</th>\n",
              "      <td>1939</td>\n",
              "      <td>0.000138</td>\n",
              "      <td>0.1030</td>\n",
              "      <td>20.06</td>\n",
              "      <td>0</td>\n",
              "      <td>Red</td>\n",
              "      <td>M</td>\n",
              "    </tr>\n",
              "    <tr>\n",
              "      <th>...</th>\n",
              "      <td>...</td>\n",
              "      <td>...</td>\n",
              "      <td>...</td>\n",
              "      <td>...</td>\n",
              "      <td>...</td>\n",
              "      <td>...</td>\n",
              "      <td>...</td>\n",
              "    </tr>\n",
              "    <tr>\n",
              "      <th>235</th>\n",
              "      <td>38940</td>\n",
              "      <td>374830.000000</td>\n",
              "      <td>1356.0000</td>\n",
              "      <td>-9.93</td>\n",
              "      <td>5</td>\n",
              "      <td>Blue</td>\n",
              "      <td>O</td>\n",
              "    </tr>\n",
              "    <tr>\n",
              "      <th>236</th>\n",
              "      <td>30839</td>\n",
              "      <td>834042.000000</td>\n",
              "      <td>1194.0000</td>\n",
              "      <td>-10.63</td>\n",
              "      <td>5</td>\n",
              "      <td>Blue</td>\n",
              "      <td>O</td>\n",
              "    </tr>\n",
              "    <tr>\n",
              "      <th>237</th>\n",
              "      <td>8829</td>\n",
              "      <td>537493.000000</td>\n",
              "      <td>1423.0000</td>\n",
              "      <td>-10.73</td>\n",
              "      <td>5</td>\n",
              "      <td>White</td>\n",
              "      <td>A</td>\n",
              "    </tr>\n",
              "    <tr>\n",
              "      <th>238</th>\n",
              "      <td>9235</td>\n",
              "      <td>404940.000000</td>\n",
              "      <td>1112.0000</td>\n",
              "      <td>-11.23</td>\n",
              "      <td>5</td>\n",
              "      <td>White</td>\n",
              "      <td>A</td>\n",
              "    </tr>\n",
              "    <tr>\n",
              "      <th>239</th>\n",
              "      <td>37882</td>\n",
              "      <td>294903.000000</td>\n",
              "      <td>1783.0000</td>\n",
              "      <td>-7.80</td>\n",
              "      <td>5</td>\n",
              "      <td>Blue</td>\n",
              "      <td>O</td>\n",
              "    </tr>\n",
              "  </tbody>\n",
              "</table>\n",
              "<p>240 rows × 7 columns</p>\n",
              "</div>"
            ],
            "text/plain": [
              "     Temperature (K)  Luminosity(L/Lo)  ...  Star color  Spectral Class\n",
              "0               3068          0.002400  ...         Red               M\n",
              "1               3042          0.000500  ...         Red               M\n",
              "2               2600          0.000300  ...         Red               M\n",
              "3               2800          0.000200  ...         Red               M\n",
              "4               1939          0.000138  ...         Red               M\n",
              "..               ...               ...  ...         ...             ...\n",
              "235            38940     374830.000000  ...        Blue               O\n",
              "236            30839     834042.000000  ...        Blue               O\n",
              "237             8829     537493.000000  ...       White               A\n",
              "238             9235     404940.000000  ...       White               A\n",
              "239            37882     294903.000000  ...        Blue               O\n",
              "\n",
              "[240 rows x 7 columns]"
            ]
          },
          "metadata": {
            "tags": []
          },
          "execution_count": 4
        }
      ]
    },
    {
      "cell_type": "markdown",
      "metadata": {
        "id": "H2iseB3umFYe"
      },
      "source": [
        "As stated before, the objective of this project is to train an algorithm that predicts the star type (column 5) based on the physical properties (columns 1, 2, 3, 4, 6 and 7). \n",
        "\n",
        "\n",
        "### Encoding the star types\n",
        "\n",
        "There are 6 star types in the *'Star type'* column. We will call this information the **labels**.\n",
        "\n",
        "The labels are currently encoded as **strings** which are practical for reading but not for computing. Therefore, we will use the package `scikit-learn` to convert this column into integers by assigning a unique `int` value to each star type. The function `sklearn.preprocessing.LabelEncoder` is used to perform this action.\n",
        "\n",
        "4. Find information about this function and explain what it does in the following piece of code:"
      ]
    },
    {
      "cell_type": "code",
      "metadata": {
        "colab": {
          "base_uri": "https://localhost:8080/"
        },
        "id": "YkCfR6Z7mFYe",
        "outputId": "21bdfa95-1907-435d-841c-35d3c6e5fe2e"
      },
      "source": [
        "from sklearn.preprocessing import LabelEncoder\n",
        "\n",
        "#LabelEncoder is a utility class to help normalize labels such that they contain only values between 0 and n_classes-1.\n",
        "\n",
        "le = LabelEncoder()\n",
        "\n",
        "# Assign unique integers from 0 to 6 to each star type\n",
        "df_stars['Star type'] = le.fit_transform(df_stars['Star type'])\n",
        "class_names = le.classes_\n",
        "class_names"
      ],
      "execution_count": 5,
      "outputs": [
        {
          "output_type": "execute_result",
          "data": {
            "text/plain": [
              "array([0, 1, 2, 3, 4, 5])"
            ]
          },
          "metadata": {
            "tags": []
          },
          "execution_count": 5
        }
      ]
    },
    {
      "cell_type": "code",
      "metadata": {
        "id": "LxDKGMQXmFYi"
      },
      "source": [
        "labels = le.inverse_transform(df_stars['Star type'])"
      ],
      "execution_count": 6,
      "outputs": []
    },
    {
      "cell_type": "markdown",
      "metadata": {
        "id": "pnBbo4NTmFYk"
      },
      "source": [
        "As we stated above, the objective of thsi project is to build a statistical model that learns how to map the characteristics Temperature/Luminosity/Radius/Absolute magnitude to the Star Type. Since the labels are categorical, this task is called **classification**.\n",
        "\n",
        "We will use a supervised approach: i.e. we build a model by training it on some examples for which we know the actual labels (this is caleld the **train set**). When the model is ready, we will apply it to another set (**test set**) to check if  it can infer the right star type for this new samples."
      ]
    },
    {
      "cell_type": "markdown",
      "metadata": {
        "id": "HXVKNjk5mFYl"
      },
      "source": [
        "### Data analysis\n",
        "\n",
        "5. As we have seen in the course, a first step in data analysis is to check if\n",
        "\n",
        "- are there any missing values?\n",
        "No, there are no missing values.\n",
        "- are there NaNs in the data?\n",
        "No, there are no NaNs in the data.\n",
        "\n",
        "- are some variables redundant (i.e. strongly correlated)?\n",
        "- is the data distribution skewed somehow?"
      ]
    },
    {
      "cell_type": "markdown",
      "metadata": {
        "id": "NbydaK7dmFYm"
      },
      "source": [
        "#### Correlation\n",
        "In order to study the possible correlation between variables, it is possible ot use the function `.corr()` for dataframes in pandas and the `seaborn.heatmap` function to plot a heat map with the information.\n",
        "\n",
        "6. Study the information about this functions at\n",
        "\n",
        "https://pandas.pydata.org/pandas-docs/stable/reference/api/pandas.DataFrame.corr.html\n",
        "\n",
        "https://seaborn.pydata.org/generated/seaborn.heatmap.html\n",
        "\n",
        "and consider the example given in \n",
        "\n",
        "https://stackoverflow.com/questions/39409866/correlation-heatmap\n",
        "\n",
        "to build a heatmap using the correlations between the variables in our dataframe. The result shoukd look the following fgure:\n",
        "\n",
        "\n",
        "\n"
      ]
    },
    {
      "cell_type": "code",
      "metadata": {
        "colab": {
          "base_uri": "https://localhost:8080/",
          "height": 571
        },
        "id": "JQW3B6GYmFYn",
        "outputId": "6002991a-7c47-4f9e-81f1-d337b4b0d0b4"
      },
      "source": [
        "## Correlation between variable\n",
        "\n",
        "corr = df_stars.corr()\n",
        "sns.heatmap(corr, linewidths=.5, annot=True)\n",
        "plt.show()\n",
        "corr"
      ],
      "execution_count": 7,
      "outputs": [
        {
          "output_type": "display_data",
          "data": {
            "image/png": "[encoded data removed]",
            "text/plain": [
              "<Figure size 432x288 with 2 Axes>"
            ]
          },
          "metadata": {
            "tags": [],
            "needs_background": "light"
          }
        },
        {
          "output_type": "execute_result",
          "data": {
            "text/html": [
              "<div>\n",
              "<style scoped>\n",
              "    .dataframe tbody tr th:only-of-type {\n",
              "        vertical-align: middle;\n",
              "    }\n",
              "\n",
              "    .dataframe tbody tr th {\n",
              "        vertical-align: top;\n",
              "    }\n",
              "\n",
              "    .dataframe thead th {\n",
              "        text-align: right;\n",
              "    }\n",
              "</style>\n",
              "<table border=\"1\" class=\"dataframe\">\n",
              "  <thead>\n",
              "    <tr style=\"text-align: right;\">\n",
              "      <th></th>\n",
              "      <th>Temperature (K)</th>\n",
              "      <th>Luminosity(L/Lo)</th>\n",
              "      <th>Radius(R/Ro)</th>\n",
              "      <th>Absolute magnitude(Mv)</th>\n",
              "      <th>Star type</th>\n",
              "    </tr>\n",
              "  </thead>\n",
              "  <tbody>\n",
              "    <tr>\n",
              "      <th>Temperature (K)</th>\n",
              "      <td>1.000000</td>\n",
              "      <td>0.393404</td>\n",
              "      <td>0.064216</td>\n",
              "      <td>-0.420261</td>\n",
              "      <td>0.411129</td>\n",
              "    </tr>\n",
              "    <tr>\n",
              "      <th>Luminosity(L/Lo)</th>\n",
              "      <td>0.393404</td>\n",
              "      <td>1.000000</td>\n",
              "      <td>0.526516</td>\n",
              "      <td>-0.692619</td>\n",
              "      <td>0.676845</td>\n",
              "    </tr>\n",
              "    <tr>\n",
              "      <th>Radius(R/Ro)</th>\n",
              "      <td>0.064216</td>\n",
              "      <td>0.526516</td>\n",
              "      <td>1.000000</td>\n",
              "      <td>-0.608728</td>\n",
              "      <td>0.660975</td>\n",
              "    </tr>\n",
              "    <tr>\n",
              "      <th>Absolute magnitude(Mv)</th>\n",
              "      <td>-0.420261</td>\n",
              "      <td>-0.692619</td>\n",
              "      <td>-0.608728</td>\n",
              "      <td>1.000000</td>\n",
              "      <td>-0.955276</td>\n",
              "    </tr>\n",
              "    <tr>\n",
              "      <th>Star type</th>\n",
              "      <td>0.411129</td>\n",
              "      <td>0.676845</td>\n",
              "      <td>0.660975</td>\n",
              "      <td>-0.955276</td>\n",
              "      <td>1.000000</td>\n",
              "    </tr>\n",
              "  </tbody>\n",
              "</table>\n",
              "</div>"
            ],
            "text/plain": [
              "                        Temperature (K)  ...  Star type\n",
              "Temperature (K)                1.000000  ...   0.411129\n",
              "Luminosity(L/Lo)               0.393404  ...   0.676845\n",
              "Radius(R/Ro)                   0.064216  ...   0.660975\n",
              "Absolute magnitude(Mv)        -0.420261  ...  -0.955276\n",
              "Star type                      0.411129  ...   1.000000\n",
              "\n",
              "[5 rows x 5 columns]"
            ]
          },
          "metadata": {
            "tags": []
          },
          "execution_count": 7
        }
      ]
    },
    {
      "cell_type": "markdown",
      "metadata": {
        "id": "1xfMem88mFYq"
      },
      "source": [
        "7. What may you conclude from this correlations? Is there a strong correlation between a particular pair of features? \n",
        "There is a strong anti-correlation between absolute magnitude and star type."
      ]
    },
    {
      "cell_type": "markdown",
      "metadata": {
        "id": "Mhl498GnmFYq"
      },
      "source": [
        "## The Hertzprung Russell Diagram\n",
        "\n",
        "Star classification is usually done using temperature and luminosity. This kind of classification is present in the Hertzsprung-Russell diagram:\n",
        "<center>\n",
        "<img src=\"https://upload.wikimedia.org/wikipedia/commons/6/6b/HRDiagram.png\" >\n",
        "<\\center>"
      ]
    },
    {
      "cell_type": "markdown",
      "metadata": {
        "id": "KRnTGMmimFYq"
      },
      "source": [
        "8. Reproduce this diagram using the featueres `'Temperature (K)'`and `'Luminosity(L/Lo)'` in the dataframe. (Remember to use a log-log scale) The result should look as the following figure:"
      ]
    },
    {
      "cell_type": "code",
      "metadata": {
        "colab": {
          "base_uri": "https://localhost:8080/",
          "height": 609
        },
        "id": "F49on_dkmFYr",
        "outputId": "6fe5b1d7-91e1-4927-af00-72af79f844a2"
      },
      "source": [
        "#Plot\n",
        "\n",
        "fig = plt.figure(figsize=(10, 10))\n",
        "plt.xscale('log')\n",
        "plt.yscale('log')\n",
        "\n",
        "names = [\"Browns Dwarf\",\"Red Dwarf\", \"White Dwarf\",\"Main Sequence\",\"Supergiant\",\"Hypergiant\"]\n",
        "groups = df_stars.groupby(\"Star type\")\n",
        "for name, group in groups:\n",
        "    plt.plot(group[\"Temperature (K)\"], group[\"Luminosity(L/Lo)\"], marker=\"o\", linestyle=\"\", label=names[name])\n",
        "\n",
        "plt.gca().invert_xaxis()\n",
        "plt.xlabel(\"Temperature (K)\")\n",
        "plt.ylabel(\"Luminosity(L/Lo)\")\n",
        "plt.legend()\n",
        "plt.show()"
      ],
      "execution_count": 8,
      "outputs": [
        {
          "output_type": "display_data",
          "data": {
            "image/png": "[encoded data removed]",
            "text/plain": [
              "<Figure size 720x720 with 1 Axes>"
            ]
          },
          "metadata": {
            "tags": [],
            "needs_background": "light"
          }
        }
      ]
    },
    {
      "cell_type": "markdown",
      "metadata": {
        "id": "BiWQ5fljmFYu"
      },
      "source": [
        "9. What can you say aboth the location of different Star types in the HR-Diagram? Is it possible to recognize each Star Type just with the information in this diagram? \n",
        "\n",
        "Es posible reconocer el tipo, o los más probales, de estrella utilizando su posición en el diagrama H-R."
      ]
    },
    {
      "cell_type": "markdown",
      "metadata": {
        "id": "8BP6oYhrmFYu"
      },
      "source": [
        "### Dimension reduction\n",
        "\n",
        "The second step in data analysis is the  *dimension reduction*. This procedure will reduce the number of features in the dataset in order to achieve\n",
        "\n",
        "a. visualization by reducing the number of variables to 2 or 3\n",
        "b. reducing the number of variables for easier data mining.\n",
        "\n",
        "The fucntion `sklearn.decomposition.PCA` is an algorithm for dimension reduction based on the **Principal Component Analysis** (PCA). This algorithm finds linear combinations of variables that explain most of the variance in the data.\n",
        "\n",
        "10. Read the documentartion for this function at \n",
        "\n",
        "https://scikit-learn.org/stable/modules/generated/sklearn.decomposition.PCA.html\n",
        "\n",
        "and explain how it works.\n"
      ]
    },
    {
      "cell_type": "markdown",
      "metadata": {
        "id": "goVh1ED9mFYv"
      },
      "source": [
        "First, we will importe the module and inizialize it keeping only 2 principal components."
      ]
    },
    {
      "cell_type": "code",
      "metadata": {
        "id": "3G3iaG3MmFYw"
      },
      "source": [
        "from sklearn.decomposition import PCA\n",
        "pca = PCA(n_components=2)"
      ],
      "execution_count": 9,
      "outputs": []
    },
    {
      "cell_type": "markdown",
      "metadata": {
        "id": "Faa7mXSmmFY0"
      },
      "source": [
        "scikit-learn expects a `NumPy` array as input for the function. Therefore, we will define an array `X` to store the data on which we will perform the PCA."
      ]
    },
    {
      "cell_type": "code",
      "metadata": {
        "id": "rud_O4L9mFY0"
      },
      "source": [
        "df_stars_data = df_stars.drop(columns=[\"Star color\", \"Star type\", \"Spectral Class\"])\n",
        "X = np.array(df_stars_data)"
      ],
      "execution_count": 10,
      "outputs": []
    },
    {
      "cell_type": "markdown",
      "metadata": {
        "id": "YRxxJtpjmFY2"
      },
      "source": [
        "As in other functions of the scikitlearn package, the PCA function is actually papplied using the `.fit()` method on the data. \n",
        "\n",
        "11. Apply the PCA to the array `X`and plot the 2-dimensional space that maximizes variance. The result should look like the following figure:"
      ]
    },
    {
      "cell_type": "code",
      "metadata": {
        "colab": {
          "base_uri": "https://localhost:8080/",
          "height": 621
        },
        "id": "ccjuNS1qmWn0",
        "outputId": "697ce397-9dc1-4da9-f28e-628969cff8e2"
      },
      "source": [
        "s_type = np.array(df_stars[\"Star type\"])\n",
        "data= pca.fit_transform(X, y=None)\n",
        "data_1 = np.column_stack([data, s_type])\n",
        "column_names = [\"PC1\", \"PC2\", \"Star type\"]\n",
        "data_df = pd.DataFrame(data_1, columns=column_names)\n",
        "\n",
        "fig = plt.figure(figsize=(10, 10))\n",
        "names = [\"Browns Dwarf\",\"Red Dwarf\", \"White Dwarf\",\"Main Sequence\",\"Supergiant\",\"Hypergiant\"]\n",
        "groups = data_df.groupby(\"Star type\")\n",
        "num=0\n",
        "for name, group in groups:\n",
        "    plt.plot(group[\"PC1\"], group[\"PC2\"], marker=\"o\", linestyle=\"\", label=names[num])\n",
        "    num +=1\n",
        "\n",
        "plt.title(\"Star observations projected on the first 2 components after PCA\")\n",
        "plt.legend()\n",
        "plt.xlabel(\"PC1\")\n",
        "plt.ylabel(\"PC2\")\n",
        "plt.show()"
      ],
      "execution_count": 11,
      "outputs": [
        {
          "output_type": "display_data",
          "data": {
            "image/png": "[encoded data removed]",
            "text/plain": [
              "<Figure size 720x720 with 1 Axes>"
            ]
          },
          "metadata": {
            "tags": [],
            "needs_background": "light"
          }
        }
      ]
    },
    {
      "cell_type": "markdown",
      "metadata": {
        "id": "T8sgKBizmFY6"
      },
      "source": [
        "As you can see from the figure, a lot of points are located at the same coordinate x and many stars are distributed in such a way that it is difficult to separate them according to their Star type. The reason of this behavior is that each feature is given in different units and this fact may distort the plot. Hencem we will use the function `sklearn.preprocessing.StandardScaler` to center (mean=0) and normalize(std=1) the data. \n",
        "\n",
        "12. Read the docuemntation of the `StandardScaler` function at\n",
        "\n",
        "https://scikit-learn.org/stable/modules/generated/sklearn.preprocessing.StandardScaler.html\n",
        "\n",
        "Apply the function the `df_stars_data` dataframe defined above and define the variable `X`. Then, apply the PCA to the variable `X` and plot the result. Your figure should look like the following plot:"
      ]
    },
    {
      "cell_type": "code",
      "metadata": {
        "colab": {
          "base_uri": "https://localhost:8080/",
          "height": 621
        },
        "id": "3QvQTkk8mFY7",
        "outputId": "7fd8da70-5cfb-40cf-ef3b-c6c31a8d09d3"
      },
      "source": [
        "from sklearn.preprocessing import StandardScaler\n",
        "scaler = StandardScaler()\n",
        "X_scale = scaler.fit_transform(X, y=None)\n",
        "\n",
        "s_type = np.array(df_stars[\"Star type\"])\n",
        "data_scale= pca.fit_transform(X_scale, y=None)\n",
        "data_1_scale = np.column_stack([data_scale, s_type])\n",
        "column_names = [\"PC1\", \"PC2\", \"Star type\"]\n",
        "data_df_scale = pd.DataFrame(data_1_scale, columns=column_names)\n",
        "\n",
        "fig = plt.figure(figsize=(10, 10))\n",
        "groups = data_df_scale.groupby(\"Star type\")\n",
        "for name, group in groups:\n",
        "    plt.plot(group[\"PC1\"], group[\"PC2\"], marker=\"o\", linestyle=\"\", label=name)\n",
        "\n",
        "plt.title(\"Star observations projected on the first 2 components after normalized PCA\")\n",
        "plt.legend()\n",
        "plt.xlabel(\"PC1\")\n",
        "plt.ylabel(\"PC2\")\n",
        "plt.show()"
      ],
      "execution_count": 12,
      "outputs": [
        {
          "output_type": "display_data",
          "data": {
            "image/png": "[encoded data removed]",
            "text/plain": [
              "<Figure size 720x720 with 1 Axes>"
            ]
          },
          "metadata": {
            "tags": [],
            "needs_background": "light"
          }
        }
      ]
    },
    {
      "cell_type": "markdown",
      "metadata": {
        "id": "p-2tTmzomFY8"
      },
      "source": [
        "This figure shows the expected behavior. Note that one can easily recognize the different Star type regions in the plot (in fact there are  *clusters* for each type). \n"
      ]
    },
    {
      "cell_type": "markdown",
      "metadata": {
        "id": "FlBXdopEmFZL"
      },
      "source": [
        "### Decision tree"
      ]
    },
    {
      "cell_type": "markdown",
      "metadata": {
        "id": "LNTPYpuHmFZL"
      },
      "source": [
        "Now we will apply a *Decision trees* algorithm from scikit-learn, just as we saw in class:"
      ]
    },
    {
      "cell_type": "code",
      "metadata": {
        "id": "6H8EFRKmmFZM"
      },
      "source": [
        "from sklearn.tree import DecisionTreeClassifier\n",
        "tree = DecisionTreeClassifier()"
      ],
      "execution_count": 13,
      "outputs": []
    },
    {
      "cell_type": "markdown",
      "metadata": {
        "id": "jIpVC3a3mFZP"
      },
      "source": [
        "13. Split the data set into two subset (train and test) in order to use the `.fit()` method to train the model. \n"
      ]
    },
    {
      "cell_type": "code",
      "metadata": {
        "id": "Ht7YCi54mFZP",
        "colab": {
          "base_uri": "https://localhost:8080/"
        },
        "outputId": "3c9cece8-d5f1-415f-cc6f-1f993f578ebe"
      },
      "source": [
        "# Split the dataset\n",
        "\n",
        "features = np.asarray([data_df_scale[\"PC1\"], data_df_scale[\"PC2\"]])\n",
        "features = features.T\n",
        "\n",
        "targets = np.asarray(data_df_scale[\"Star type\"])\n",
        "\n",
        "\n",
        "from sklearn.model_selection import train_test_split\n",
        "\n",
        "train_features, test_features, train_targets, test_targets = train_test_split(features,targets,\n",
        "                                                                  test_size=0.2,random_state=5)\n",
        "\n",
        "# Train the model \n",
        "\n",
        "from sklearn.tree import DecisionTreeRegressor\n",
        "\n",
        "dec_tree = DecisionTreeRegressor(max_depth=5)\n",
        "dec_tree.fit(train_features, train_targets)"
      ],
      "execution_count": 14,
      "outputs": [
        {
          "output_type": "execute_result",
          "data": {
            "text/plain": [
              "DecisionTreeRegressor(ccp_alpha=0.0, criterion='mse', max_depth=5,\n",
              "                      max_features=None, max_leaf_nodes=None,\n",
              "                      min_impurity_decrease=0.0, min_impurity_split=None,\n",
              "                      min_samples_leaf=1, min_samples_split=2,\n",
              "                      min_weight_fraction_leaf=0.0, presort='deprecated',\n",
              "                      random_state=None, splitter='best')"
            ]
          },
          "metadata": {
            "tags": []
          },
          "execution_count": 14
        }
      ]
    },
    {
      "cell_type": "markdown",
      "metadata": {
        "id": "VbKcS9UAmFZS"
      },
      "source": [
        "14. Once you have trained your model, you can check its *accuracy* on our test set. You can use the `.predict()` method, as we have seen in class to obtain the labels for the samples in the test set."
      ]
    },
    {
      "cell_type": "code",
      "metadata": {
        "id": "cje81A2BmFZS",
        "colab": {
          "base_uri": "https://localhost:8080/"
        },
        "outputId": "f98fff25-02df-4ea3-e920-1d8abe88f6c1"
      },
      "source": [
        "predictions = dec_tree.predict(test_features)\n",
        "eval_d_tree = np.median(np.abs(predictions - test_targets))\n",
        "print(eval_d_tree)"
      ],
      "execution_count": 15,
      "outputs": [
        {
          "output_type": "stream",
          "text": [
            "0.0\n"
          ],
          "name": "stdout"
        }
      ]
    },
    {
      "cell_type": "markdown",
      "metadata": {
        "id": "yp8GkilZmFZV"
      },
      "source": [
        "15. Now you can use the  `.score()` method to obtain a measure of the prediction accuracy"
      ]
    },
    {
      "cell_type": "code",
      "metadata": {
        "id": "AOYNMOgimFZV",
        "colab": {
          "base_uri": "https://localhost:8080/"
        },
        "outputId": "fbd5f67a-a1ad-471f-e794-5790963dc5df"
      },
      "source": [
        "dec_tree.score(test_features, test_targets)"
      ],
      "execution_count": 16,
      "outputs": [
        {
          "output_type": "execute_result",
          "data": {
            "text/plain": [
              "0.9998449174462333"
            ]
          },
          "metadata": {
            "tags": []
          },
          "execution_count": 16
        }
      ]
    },
    {
      "cell_type": "markdown",
      "metadata": {
        "id": "lSZtu2dFmFZZ"
      },
      "source": [
        "16. How do you interpret the score result? Is it a good model? Is your model able to predict correctly the Star type of an unknown sample?"
      ]
    },
    {
      "cell_type": "markdown",
      "metadata": {
        "id": "8WdPyWXjmFZZ"
      },
      "source": [
        "A confusion matrix together with a heatmap become an interesting tool to illustrate the results. The confusion matrix indicates for each actual star type (rows) how the stars of this group have been predicted (columns). \n",
        "\n",
        "17. Read the documentation of this function at\n",
        "\n",
        "https://scikit-learn.org/stable/modules/generated/sklearn.metrics.confusion_matrix.html\n",
        "\n",
        "and try to generate a heat map similar to this one:\n"
      ]
    },
    {
      "cell_type": "code",
      "metadata": {
        "colab": {
          "base_uri": "https://localhost:8080/",
          "height": 382
        },
        "id": "ud5o2gysmFZZ",
        "outputId": "facbe9e5-dd11-4e59-e92f-3e06b19c9abc"
      },
      "source": [
        "from sklearn.metrics import confusion_matrix\n",
        "\n",
        "cm = confusion_matrix(predictions, test_targets)\n",
        "sns.heatmap(cm, linewidths=.5, annot=True)\n",
        "plt.show()\n"
      ],
      "execution_count": 18,
      "outputs": [
        {
          "output_type": "error",
          "ename": "ValueError",
          "evalue": "ignored",
          "traceback": [
            "\u001b[0;31m---------------------------------------------------------------------------\u001b[0m",
            "\u001b[0;31mValueError\u001b[0m                                Traceback (most recent call last)",
            "\u001b[0;32m<ipython-input-18-3df142d4a965>\u001b[0m in \u001b[0;36m<module>\u001b[0;34m()\u001b[0m\n\u001b[1;32m      1\u001b[0m \u001b[0;32mfrom\u001b[0m \u001b[0msklearn\u001b[0m\u001b[0;34m.\u001b[0m\u001b[0mmetrics\u001b[0m \u001b[0;32mimport\u001b[0m \u001b[0mconfusion_matrix\u001b[0m\u001b[0;34m\u001b[0m\u001b[0;34m\u001b[0m\u001b[0m\n\u001b[1;32m      2\u001b[0m \u001b[0;34m\u001b[0m\u001b[0m\n\u001b[0;32m----> 3\u001b[0;31m \u001b[0mcm\u001b[0m \u001b[0;34m=\u001b[0m \u001b[0mconfusion_matrix\u001b[0m\u001b[0;34m(\u001b[0m\u001b[0mpredictions\u001b[0m\u001b[0;34m,\u001b[0m \u001b[0mtest_targets\u001b[0m\u001b[0;34m)\u001b[0m\u001b[0;34m\u001b[0m\u001b[0;34m\u001b[0m\u001b[0m\n\u001b[0m\u001b[1;32m      4\u001b[0m \u001b[0msns\u001b[0m\u001b[0;34m.\u001b[0m\u001b[0mheatmap\u001b[0m\u001b[0;34m(\u001b[0m\u001b[0mcm\u001b[0m\u001b[0;34m,\u001b[0m \u001b[0mlinewidths\u001b[0m\u001b[0;34m=\u001b[0m\u001b[0;36m.5\u001b[0m\u001b[0;34m,\u001b[0m \u001b[0mannot\u001b[0m\u001b[0;34m=\u001b[0m\u001b[0;32mTrue\u001b[0m\u001b[0;34m)\u001b[0m\u001b[0;34m\u001b[0m\u001b[0;34m\u001b[0m\u001b[0m\n\u001b[1;32m      5\u001b[0m \u001b[0mplt\u001b[0m\u001b[0;34m.\u001b[0m\u001b[0mshow\u001b[0m\u001b[0;34m(\u001b[0m\u001b[0;34m)\u001b[0m\u001b[0;34m\u001b[0m\u001b[0;34m\u001b[0m\u001b[0m\n",
            "\u001b[0;32m/usr/local/lib/python3.7/dist-packages/sklearn/metrics/_classification.py\u001b[0m in \u001b[0;36mconfusion_matrix\u001b[0;34m(y_true, y_pred, labels, sample_weight, normalize)\u001b[0m\n\u001b[1;32m    266\u001b[0m \u001b[0;34m\u001b[0m\u001b[0m\n\u001b[1;32m    267\u001b[0m     \"\"\"\n\u001b[0;32m--> 268\u001b[0;31m     \u001b[0my_type\u001b[0m\u001b[0;34m,\u001b[0m \u001b[0my_true\u001b[0m\u001b[0;34m,\u001b[0m \u001b[0my_pred\u001b[0m \u001b[0;34m=\u001b[0m \u001b[0m_check_targets\u001b[0m\u001b[0;34m(\u001b[0m\u001b[0my_true\u001b[0m\u001b[0;34m,\u001b[0m \u001b[0my_pred\u001b[0m\u001b[0;34m)\u001b[0m\u001b[0;34m\u001b[0m\u001b[0;34m\u001b[0m\u001b[0m\n\u001b[0m\u001b[1;32m    269\u001b[0m     \u001b[0;32mif\u001b[0m \u001b[0my_type\u001b[0m \u001b[0;32mnot\u001b[0m \u001b[0;32min\u001b[0m \u001b[0;34m(\u001b[0m\u001b[0;34m\"binary\"\u001b[0m\u001b[0;34m,\u001b[0m \u001b[0;34m\"multiclass\"\u001b[0m\u001b[0;34m)\u001b[0m\u001b[0;34m:\u001b[0m\u001b[0;34m\u001b[0m\u001b[0;34m\u001b[0m\u001b[0m\n\u001b[1;32m    270\u001b[0m         \u001b[0;32mraise\u001b[0m \u001b[0mValueError\u001b[0m\u001b[0;34m(\u001b[0m\u001b[0;34m\"%s is not supported\"\u001b[0m \u001b[0;34m%\u001b[0m \u001b[0my_type\u001b[0m\u001b[0;34m)\u001b[0m\u001b[0;34m\u001b[0m\u001b[0;34m\u001b[0m\u001b[0m\n",
            "\u001b[0;32m/usr/local/lib/python3.7/dist-packages/sklearn/metrics/_classification.py\u001b[0m in \u001b[0;36m_check_targets\u001b[0;34m(y_true, y_pred)\u001b[0m\n\u001b[1;32m     88\u001b[0m     \u001b[0;32mif\u001b[0m \u001b[0mlen\u001b[0m\u001b[0;34m(\u001b[0m\u001b[0my_type\u001b[0m\u001b[0;34m)\u001b[0m \u001b[0;34m>\u001b[0m \u001b[0;36m1\u001b[0m\u001b[0;34m:\u001b[0m\u001b[0;34m\u001b[0m\u001b[0;34m\u001b[0m\u001b[0m\n\u001b[1;32m     89\u001b[0m         raise ValueError(\"Classification metrics can't handle a mix of {0} \"\n\u001b[0;32m---> 90\u001b[0;31m                          \"and {1} targets\".format(type_true, type_pred))\n\u001b[0m\u001b[1;32m     91\u001b[0m \u001b[0;34m\u001b[0m\u001b[0m\n\u001b[1;32m     92\u001b[0m     \u001b[0;31m# We can't have more than one value on y_type => The set is no more needed\u001b[0m\u001b[0;34m\u001b[0m\u001b[0;34m\u001b[0m\u001b[0;34m\u001b[0m\u001b[0m\n",
            "\u001b[0;31mValueError\u001b[0m: Classification metrics can't handle a mix of continuous and multiclass targets"
          ]
        }
      ]
    },
    {
      "cell_type": "markdown",
      "metadata": {
        "id": "7ym-35ADmFZc"
      },
      "source": [
        "18. How do you interpret this heatmap? Is it good your model to predict the Star type?"
      ]
    },
    {
      "cell_type": "markdown",
      "metadata": {
        "id": "EcnFRIR2mFZc"
      },
      "source": [
        "19. If everything works fine, the following code will give a graphical interpretation of the decision tree. Try it and comment the results."
      ]
    },
    {
      "cell_type": "code",
      "metadata": {
        "id": "Fk53j5hhmFZc"
      },
      "source": [
        "fig = plt.figure(figsize=(12, 12))\n",
        "sklearn.tree.plot_tree(dec_tree, filled=True, feature_names=data_df_scale.drop(columns=\"Star type\").keys(), class_names=class_names)\n",
        "plt.show()"
      ],
      "execution_count": null,
      "outputs": []
    }
  ]
}